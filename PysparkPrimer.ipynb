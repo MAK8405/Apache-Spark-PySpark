{
 "cells": [
  {
   "cell_type": "code",
   "execution_count": null,
   "id": "802da471",
   "metadata": {},
   "outputs": [],
   "source": []
  },
  {
   "cell_type": "code",
   "execution_count": null,
   "id": "cb053c51",
   "metadata": {},
   "outputs": [],
   "source": [
    "# We have access to Spark through the variable sc\n",
    "nums = list(range(0, 1000001))"
   ]
  },
  {
   "cell_type": "code",
   "execution_count": 11,
   "id": "b65b2a54",
   "metadata": {},
   "outputs": [
    {
     "ename": "NameError",
     "evalue": "name 'sc' is not defined",
     "output_type": "error",
     "traceback": [
      "\u001b[31m---------------------------------------------------------------------------\u001b[39m",
      "\u001b[31mNameError\u001b[39m                                 Traceback (most recent call last)",
      "\u001b[36mCell\u001b[39m\u001b[36m \u001b[39m\u001b[32mIn[11]\u001b[39m\u001b[32m, line 1\u001b[39m\n\u001b[32m----> \u001b[39m\u001b[32m1\u001b[39m nums_rdd = \u001b[43msc\u001b[49m.parallelize(nums)\n\u001b[32m      2\u001b[39m nums_rdd\n",
      "\u001b[31mNameError\u001b[39m: name 'sc' is not defined"
     ]
    }
   ],
   "source": [
    "nums_rdd = sc.parallelize(nums)\n",
    "nums_rdd"
   ]
  },
  {
   "cell_type": "code",
   "execution_count": null,
   "id": "754a4c00",
   "metadata": {},
   "outputs": [],
   "source": []
  }
 ],
 "metadata": {
  "kernelspec": {
   "display_name": "venv",
   "language": "python",
   "name": "python3"
  },
  "language_info": {
   "codemirror_mode": {
    "name": "ipython",
    "version": 3
   },
   "file_extension": ".py",
   "mimetype": "text/x-python",
   "name": "python",
   "nbconvert_exporter": "python",
   "pygments_lexer": "ipython3",
   "version": "3.13.3"
  }
 },
 "nbformat": 4,
 "nbformat_minor": 5
}
